{
 "cells": [
  {
   "cell_type": "markdown",
   "id": "58340281",
   "metadata": {},
   "source": [
    "## Steps\n",
    "\n",
    "1. Sector = ('Industrials','Energy','Consumer Staples','Consumer Discretionery')\n",
    "2. Multi class classification \n",
    "3. Not creating index, retaining date & cusip as is\n",
    "4. Train & Test split without timeseries\n",
    "5. Standardsclar \n",
    "\n",
    "Note- Model Performes better without timeseries split\n"
   ]
  },
  {
   "cell_type": "markdown",
   "id": "d2cb9295",
   "metadata": {},
   "source": [
    "# Importing Libraries"
   ]
  },
  {
   "cell_type": "code",
   "execution_count": 1,
   "id": "455a276d",
   "metadata": {},
   "outputs": [],
   "source": [
    "import numpy as np # linear algebra\n",
    "import pandas as pd # data processing, CSV file I/O (e.g. pd.read_csv)\n",
    "import matplotlib.pyplot as plt # data visualization\n",
    "import seaborn as sns # statistical data visualization"
   ]
  },
  {
   "cell_type": "markdown",
   "id": "4bcf188f",
   "metadata": {},
   "source": [
    " # Load Data"
   ]
  },
  {
   "cell_type": "code",
   "execution_count": 2,
   "id": "b8d606ae",
   "metadata": {},
   "outputs": [
    {
     "ename": "FileNotFoundError",
     "evalue": "[Errno 2] No such file or directory: 'Analyst_Data.csv'",
     "output_type": "error",
     "traceback": [
      "\u001b[0;31m---------------------------------------------------------------------------\u001b[0m",
      "\u001b[0;31mFileNotFoundError\u001b[0m                         Traceback (most recent call last)",
      "\u001b[0;32m/var/folders/mx/rk8m_21x095c5rypcrl55ylh0000gn/T/ipykernel_22141/1227436521.py\u001b[0m in \u001b[0;36m<module>\u001b[0;34m\u001b[0m\n\u001b[1;32m      1\u001b[0m \u001b[0;31m#reading raw data\u001b[0m\u001b[0;34m\u001b[0m\u001b[0;34m\u001b[0m\u001b[0m\n\u001b[0;32m----> 2\u001b[0;31m \u001b[0manalystdata\u001b[0m \u001b[0;34m=\u001b[0m \u001b[0mpd\u001b[0m\u001b[0;34m.\u001b[0m\u001b[0mread_csv\u001b[0m\u001b[0;34m(\u001b[0m\u001b[0;34m'Analyst_Data.csv'\u001b[0m\u001b[0;34m)\u001b[0m\u001b[0;34m\u001b[0m\u001b[0;34m\u001b[0m\u001b[0m\n\u001b[0m\u001b[1;32m      3\u001b[0m \u001b[0mfinancialratiodata\u001b[0m \u001b[0;34m=\u001b[0m \u001b[0mpd\u001b[0m\u001b[0;34m.\u001b[0m\u001b[0mread_csv\u001b[0m\u001b[0;34m(\u001b[0m\u001b[0;34m'Financial_Ratios_Data.csv'\u001b[0m\u001b[0;34m)\u001b[0m\u001b[0;34m\u001b[0m\u001b[0;34m\u001b[0m\u001b[0m\n\u001b[1;32m      4\u001b[0m \u001b[0mreturnsdata\u001b[0m \u001b[0;34m=\u001b[0m \u001b[0mpd\u001b[0m\u001b[0;34m.\u001b[0m\u001b[0mread_excel\u001b[0m\u001b[0;34m(\u001b[0m\u001b[0;34m'Returns_Data_V2.xlsx'\u001b[0m\u001b[0;34m)\u001b[0m\u001b[0;34m\u001b[0m\u001b[0;34m\u001b[0m\u001b[0m\n",
      "\u001b[0;32m~/opt/anaconda3/lib/python3.9/site-packages/pandas/util/_decorators.py\u001b[0m in \u001b[0;36mwrapper\u001b[0;34m(*args, **kwargs)\u001b[0m\n\u001b[1;32m    309\u001b[0m                     \u001b[0mstacklevel\u001b[0m\u001b[0;34m=\u001b[0m\u001b[0mstacklevel\u001b[0m\u001b[0;34m,\u001b[0m\u001b[0;34m\u001b[0m\u001b[0;34m\u001b[0m\u001b[0m\n\u001b[1;32m    310\u001b[0m                 )\n\u001b[0;32m--> 311\u001b[0;31m             \u001b[0;32mreturn\u001b[0m \u001b[0mfunc\u001b[0m\u001b[0;34m(\u001b[0m\u001b[0;34m*\u001b[0m\u001b[0margs\u001b[0m\u001b[0;34m,\u001b[0m \u001b[0;34m**\u001b[0m\u001b[0mkwargs\u001b[0m\u001b[0;34m)\u001b[0m\u001b[0;34m\u001b[0m\u001b[0;34m\u001b[0m\u001b[0m\n\u001b[0m\u001b[1;32m    312\u001b[0m \u001b[0;34m\u001b[0m\u001b[0m\n\u001b[1;32m    313\u001b[0m         \u001b[0;32mreturn\u001b[0m \u001b[0mwrapper\u001b[0m\u001b[0;34m\u001b[0m\u001b[0;34m\u001b[0m\u001b[0m\n",
      "\u001b[0;32m~/opt/anaconda3/lib/python3.9/site-packages/pandas/io/parsers/readers.py\u001b[0m in \u001b[0;36mread_csv\u001b[0;34m(filepath_or_buffer, sep, delimiter, header, names, index_col, usecols, squeeze, prefix, mangle_dupe_cols, dtype, engine, converters, true_values, false_values, skipinitialspace, skiprows, skipfooter, nrows, na_values, keep_default_na, na_filter, verbose, skip_blank_lines, parse_dates, infer_datetime_format, keep_date_col, date_parser, dayfirst, cache_dates, iterator, chunksize, compression, thousands, decimal, lineterminator, quotechar, quoting, doublequote, escapechar, comment, encoding, encoding_errors, dialect, error_bad_lines, warn_bad_lines, on_bad_lines, delim_whitespace, low_memory, memory_map, float_precision, storage_options)\u001b[0m\n\u001b[1;32m    584\u001b[0m     \u001b[0mkwds\u001b[0m\u001b[0;34m.\u001b[0m\u001b[0mupdate\u001b[0m\u001b[0;34m(\u001b[0m\u001b[0mkwds_defaults\u001b[0m\u001b[0;34m)\u001b[0m\u001b[0;34m\u001b[0m\u001b[0;34m\u001b[0m\u001b[0m\n\u001b[1;32m    585\u001b[0m \u001b[0;34m\u001b[0m\u001b[0m\n\u001b[0;32m--> 586\u001b[0;31m     \u001b[0;32mreturn\u001b[0m \u001b[0m_read\u001b[0m\u001b[0;34m(\u001b[0m\u001b[0mfilepath_or_buffer\u001b[0m\u001b[0;34m,\u001b[0m \u001b[0mkwds\u001b[0m\u001b[0;34m)\u001b[0m\u001b[0;34m\u001b[0m\u001b[0;34m\u001b[0m\u001b[0m\n\u001b[0m\u001b[1;32m    587\u001b[0m \u001b[0;34m\u001b[0m\u001b[0m\n\u001b[1;32m    588\u001b[0m \u001b[0;34m\u001b[0m\u001b[0m\n",
      "\u001b[0;32m~/opt/anaconda3/lib/python3.9/site-packages/pandas/io/parsers/readers.py\u001b[0m in \u001b[0;36m_read\u001b[0;34m(filepath_or_buffer, kwds)\u001b[0m\n\u001b[1;32m    480\u001b[0m \u001b[0;34m\u001b[0m\u001b[0m\n\u001b[1;32m    481\u001b[0m     \u001b[0;31m# Create the parser.\u001b[0m\u001b[0;34m\u001b[0m\u001b[0;34m\u001b[0m\u001b[0m\n\u001b[0;32m--> 482\u001b[0;31m     \u001b[0mparser\u001b[0m \u001b[0;34m=\u001b[0m \u001b[0mTextFileReader\u001b[0m\u001b[0;34m(\u001b[0m\u001b[0mfilepath_or_buffer\u001b[0m\u001b[0;34m,\u001b[0m \u001b[0;34m**\u001b[0m\u001b[0mkwds\u001b[0m\u001b[0;34m)\u001b[0m\u001b[0;34m\u001b[0m\u001b[0;34m\u001b[0m\u001b[0m\n\u001b[0m\u001b[1;32m    483\u001b[0m \u001b[0;34m\u001b[0m\u001b[0m\n\u001b[1;32m    484\u001b[0m     \u001b[0;32mif\u001b[0m \u001b[0mchunksize\u001b[0m \u001b[0;32mor\u001b[0m \u001b[0miterator\u001b[0m\u001b[0;34m:\u001b[0m\u001b[0;34m\u001b[0m\u001b[0;34m\u001b[0m\u001b[0m\n",
      "\u001b[0;32m~/opt/anaconda3/lib/python3.9/site-packages/pandas/io/parsers/readers.py\u001b[0m in \u001b[0;36m__init__\u001b[0;34m(self, f, engine, **kwds)\u001b[0m\n\u001b[1;32m    809\u001b[0m             \u001b[0mself\u001b[0m\u001b[0;34m.\u001b[0m\u001b[0moptions\u001b[0m\u001b[0;34m[\u001b[0m\u001b[0;34m\"has_index_names\"\u001b[0m\u001b[0;34m]\u001b[0m \u001b[0;34m=\u001b[0m \u001b[0mkwds\u001b[0m\u001b[0;34m[\u001b[0m\u001b[0;34m\"has_index_names\"\u001b[0m\u001b[0;34m]\u001b[0m\u001b[0;34m\u001b[0m\u001b[0;34m\u001b[0m\u001b[0m\n\u001b[1;32m    810\u001b[0m \u001b[0;34m\u001b[0m\u001b[0m\n\u001b[0;32m--> 811\u001b[0;31m         \u001b[0mself\u001b[0m\u001b[0;34m.\u001b[0m\u001b[0m_engine\u001b[0m \u001b[0;34m=\u001b[0m \u001b[0mself\u001b[0m\u001b[0;34m.\u001b[0m\u001b[0m_make_engine\u001b[0m\u001b[0;34m(\u001b[0m\u001b[0mself\u001b[0m\u001b[0;34m.\u001b[0m\u001b[0mengine\u001b[0m\u001b[0;34m)\u001b[0m\u001b[0;34m\u001b[0m\u001b[0;34m\u001b[0m\u001b[0m\n\u001b[0m\u001b[1;32m    812\u001b[0m \u001b[0;34m\u001b[0m\u001b[0m\n\u001b[1;32m    813\u001b[0m     \u001b[0;32mdef\u001b[0m \u001b[0mclose\u001b[0m\u001b[0;34m(\u001b[0m\u001b[0mself\u001b[0m\u001b[0;34m)\u001b[0m\u001b[0;34m:\u001b[0m\u001b[0;34m\u001b[0m\u001b[0;34m\u001b[0m\u001b[0m\n",
      "\u001b[0;32m~/opt/anaconda3/lib/python3.9/site-packages/pandas/io/parsers/readers.py\u001b[0m in \u001b[0;36m_make_engine\u001b[0;34m(self, engine)\u001b[0m\n\u001b[1;32m   1038\u001b[0m             )\n\u001b[1;32m   1039\u001b[0m         \u001b[0;31m# error: Too many arguments for \"ParserBase\"\u001b[0m\u001b[0;34m\u001b[0m\u001b[0;34m\u001b[0m\u001b[0m\n\u001b[0;32m-> 1040\u001b[0;31m         \u001b[0;32mreturn\u001b[0m \u001b[0mmapping\u001b[0m\u001b[0;34m[\u001b[0m\u001b[0mengine\u001b[0m\u001b[0;34m]\u001b[0m\u001b[0;34m(\u001b[0m\u001b[0mself\u001b[0m\u001b[0;34m.\u001b[0m\u001b[0mf\u001b[0m\u001b[0;34m,\u001b[0m \u001b[0;34m**\u001b[0m\u001b[0mself\u001b[0m\u001b[0;34m.\u001b[0m\u001b[0moptions\u001b[0m\u001b[0;34m)\u001b[0m  \u001b[0;31m# type: ignore[call-arg]\u001b[0m\u001b[0;34m\u001b[0m\u001b[0;34m\u001b[0m\u001b[0m\n\u001b[0m\u001b[1;32m   1041\u001b[0m \u001b[0;34m\u001b[0m\u001b[0m\n\u001b[1;32m   1042\u001b[0m     \u001b[0;32mdef\u001b[0m \u001b[0m_failover_to_python\u001b[0m\u001b[0;34m(\u001b[0m\u001b[0mself\u001b[0m\u001b[0;34m)\u001b[0m\u001b[0;34m:\u001b[0m\u001b[0;34m\u001b[0m\u001b[0;34m\u001b[0m\u001b[0m\n",
      "\u001b[0;32m~/opt/anaconda3/lib/python3.9/site-packages/pandas/io/parsers/c_parser_wrapper.py\u001b[0m in \u001b[0;36m__init__\u001b[0;34m(self, src, **kwds)\u001b[0m\n\u001b[1;32m     49\u001b[0m \u001b[0;34m\u001b[0m\u001b[0m\n\u001b[1;32m     50\u001b[0m         \u001b[0;31m# open handles\u001b[0m\u001b[0;34m\u001b[0m\u001b[0;34m\u001b[0m\u001b[0m\n\u001b[0;32m---> 51\u001b[0;31m         \u001b[0mself\u001b[0m\u001b[0;34m.\u001b[0m\u001b[0m_open_handles\u001b[0m\u001b[0;34m(\u001b[0m\u001b[0msrc\u001b[0m\u001b[0;34m,\u001b[0m \u001b[0mkwds\u001b[0m\u001b[0;34m)\u001b[0m\u001b[0;34m\u001b[0m\u001b[0;34m\u001b[0m\u001b[0m\n\u001b[0m\u001b[1;32m     52\u001b[0m         \u001b[0;32massert\u001b[0m \u001b[0mself\u001b[0m\u001b[0;34m.\u001b[0m\u001b[0mhandles\u001b[0m \u001b[0;32mis\u001b[0m \u001b[0;32mnot\u001b[0m \u001b[0;32mNone\u001b[0m\u001b[0;34m\u001b[0m\u001b[0;34m\u001b[0m\u001b[0m\n\u001b[1;32m     53\u001b[0m \u001b[0;34m\u001b[0m\u001b[0m\n",
      "\u001b[0;32m~/opt/anaconda3/lib/python3.9/site-packages/pandas/io/parsers/base_parser.py\u001b[0m in \u001b[0;36m_open_handles\u001b[0;34m(self, src, kwds)\u001b[0m\n\u001b[1;32m    220\u001b[0m         \u001b[0mLet\u001b[0m \u001b[0mthe\u001b[0m \u001b[0mreaders\u001b[0m \u001b[0mopen\u001b[0m \u001b[0mIOHandles\u001b[0m \u001b[0mafter\u001b[0m \u001b[0mthey\u001b[0m \u001b[0mare\u001b[0m \u001b[0mdone\u001b[0m \u001b[0;32mwith\u001b[0m \u001b[0mtheir\u001b[0m \u001b[0mpotential\u001b[0m \u001b[0mraises\u001b[0m\u001b[0;34m.\u001b[0m\u001b[0;34m\u001b[0m\u001b[0;34m\u001b[0m\u001b[0m\n\u001b[1;32m    221\u001b[0m         \"\"\"\n\u001b[0;32m--> 222\u001b[0;31m         self.handles = get_handle(\n\u001b[0m\u001b[1;32m    223\u001b[0m             \u001b[0msrc\u001b[0m\u001b[0;34m,\u001b[0m\u001b[0;34m\u001b[0m\u001b[0;34m\u001b[0m\u001b[0m\n\u001b[1;32m    224\u001b[0m             \u001b[0;34m\"r\"\u001b[0m\u001b[0;34m,\u001b[0m\u001b[0;34m\u001b[0m\u001b[0;34m\u001b[0m\u001b[0m\n",
      "\u001b[0;32m~/opt/anaconda3/lib/python3.9/site-packages/pandas/io/common.py\u001b[0m in \u001b[0;36mget_handle\u001b[0;34m(path_or_buf, mode, encoding, compression, memory_map, is_text, errors, storage_options)\u001b[0m\n\u001b[1;32m    700\u001b[0m         \u001b[0;32mif\u001b[0m \u001b[0mioargs\u001b[0m\u001b[0;34m.\u001b[0m\u001b[0mencoding\u001b[0m \u001b[0;32mand\u001b[0m \u001b[0;34m\"b\"\u001b[0m \u001b[0;32mnot\u001b[0m \u001b[0;32min\u001b[0m \u001b[0mioargs\u001b[0m\u001b[0;34m.\u001b[0m\u001b[0mmode\u001b[0m\u001b[0;34m:\u001b[0m\u001b[0;34m\u001b[0m\u001b[0;34m\u001b[0m\u001b[0m\n\u001b[1;32m    701\u001b[0m             \u001b[0;31m# Encoding\u001b[0m\u001b[0;34m\u001b[0m\u001b[0;34m\u001b[0m\u001b[0m\n\u001b[0;32m--> 702\u001b[0;31m             handle = open(\n\u001b[0m\u001b[1;32m    703\u001b[0m                 \u001b[0mhandle\u001b[0m\u001b[0;34m,\u001b[0m\u001b[0;34m\u001b[0m\u001b[0;34m\u001b[0m\u001b[0m\n\u001b[1;32m    704\u001b[0m                 \u001b[0mioargs\u001b[0m\u001b[0;34m.\u001b[0m\u001b[0mmode\u001b[0m\u001b[0;34m,\u001b[0m\u001b[0;34m\u001b[0m\u001b[0;34m\u001b[0m\u001b[0m\n",
      "\u001b[0;31mFileNotFoundError\u001b[0m: [Errno 2] No such file or directory: 'Analyst_Data.csv'"
     ]
    }
   ],
   "source": [
    "#reading raw data\n",
    "analystdata = pd.read_csv('Analyst_Data.csv')\n",
    "financialratiodata = pd.read_csv('Financial_Ratios_Data.csv')\n",
    "returnsdata = pd.read_excel('Returns_Data_V2.xlsx')\n"
   ]
  },
  {
   "cell_type": "code",
   "execution_count": null,
   "id": "73b70a65",
   "metadata": {},
   "outputs": [],
   "source": [
    "print(\"analystdata\",analystdata.shape)\n",
    "print(\"financialratiodata\",financialratiodata.shape)\n",
    "print(\"returnsdata\",returnsdata.shape)"
   ]
  },
  {
   "cell_type": "code",
   "execution_count": null,
   "id": "163bea6c",
   "metadata": {},
   "outputs": [],
   "source": [
    "## convert the column names to uppercase \n",
    "\n",
    "financialratiodata.columns = [col.upper() for col in financialratiodata.columns]\n",
    "analystdata.columns = [col.upper() for col in analystdata.columns]\n",
    "returnsdata.columns = [col.upper() for col in returnsdata.columns]\n",
    "\n"
   ]
  },
  {
   "cell_type": "markdown",
   "id": "ca6f0b07",
   "metadata": {},
   "source": [
    "# Merge & filter the dataset"
   ]
  },
  {
   "cell_type": "code",
   "execution_count": null,
   "id": "6445e186",
   "metadata": {},
   "outputs": [],
   "source": [
    "# Financial_Ratios_Data & Returns_Data are merged on permno & date. \n",
    "# the datatype of Financial_Ratios_Data['date'] column is INT64. Returns_Data['date'] is datetime. \n",
    "# cast Financial_Ratios_Data['date'] to datetime & format both Financial_Ratios_Data['date'] & Returns_Data['date'] to 'YYYYMM' \n",
    "\n",
    "# filter Financial_Ratios_Data to select rows for Sector in ('Industrials','Energy')\n",
    "\n",
    "Sector = ('Industrials','Energy','Consumer Staples','Consumer Discretionery')\n",
    "#Sector = ('Industrials','Energy')\n",
    "\n",
    "financialratiodata_filtered = financialratiodata[financialratiodata.SECTORNAME.isin(Sector)]\n",
    "financialratiodata_filtered.shape\n",
    "\n",
    "# # format financialratiodata_filtered['date'] \n",
    "financialratiodata_filtered['DATE'] = pd.to_datetime(financialratiodata_filtered['DATE'], format='%Y%m%d')\n",
    "financialratiodata_filtered['DATE_YYYYMM'] = financialratiodata_filtered['DATE'].apply(lambda x: x.strftime('%Y%m')) \n",
    "#financialratiodata_filtered['date_YYYYMM']\n",
    "\n",
    "# # format returnsdata['date'] \n",
    "returnsdata['DATE'] = pd.to_datetime(returnsdata['DATE'], format='%Y%m%d')\n",
    "returnsdata['DATE_YYYYMM'] = returnsdata['DATE'].apply(lambda x: x.strftime('%Y%m')) \n",
    "#returnsdata['date_YYYYMM']\n",
    "\n"
   ]
  },
  {
   "cell_type": "code",
   "execution_count": null,
   "id": "7870acf7",
   "metadata": {},
   "outputs": [],
   "source": [
    "# # merge Financial_Ratios_Data['date_YYYYMM'] & Returns_Data['date_YYYYMM']\n",
    "#Merge1 = pd.merge(returnsdata, financialratiodata_filtered, left_on = ['PERMNO','date_YYYYMM'], right_on = ['permno','date_YYYYMM'], how ='inner')\n",
    "\n",
    "#Merge1 = pd.merge(financialratiodata_filtered,returnsdata,  left_on = ['PERMNO','DATE_YYYYMM'], right_on = ['PERMNO','DATE_YYYYMM'], how ='left')\n",
    "\n",
    "Merge1 = pd.merge(financialratiodata_filtered,returnsdata,  on = ['PERMNO','DATE_YYYYMM'], suffixes=('', '_drop'))\n"
   ]
  },
  {
   "cell_type": "code",
   "execution_count": null,
   "id": "1f034338",
   "metadata": {},
   "outputs": [],
   "source": [
    "# extract the rows for '2021-12-31', later this will be used for prediction\n",
    "prediction_set = Merge1.loc[Merge1['DATE'] == '2021-12-31']\n",
    "display(prediction_set)"
   ]
  },
  {
   "cell_type": "code",
   "execution_count": 3,
   "id": "174eb1eb",
   "metadata": {},
   "outputs": [
    {
     "ename": "NameError",
     "evalue": "name 'analystdata' is not defined",
     "output_type": "error",
     "traceback": [
      "\u001b[0;31m---------------------------------------------------------------------------\u001b[0m",
      "\u001b[0;31mNameError\u001b[0m                                 Traceback (most recent call last)",
      "\u001b[0;32m/var/folders/mx/rk8m_21x095c5rypcrl55ylh0000gn/T/ipykernel_22141/1693393555.py\u001b[0m in \u001b[0;36m<module>\u001b[0;34m\u001b[0m\n\u001b[1;32m      3\u001b[0m \u001b[0;31m# Analyst_data is by mid of next month whereas financial & returns are by month end. hence transforming analystdata['date'] to set 15 days backwords to allign with financialratiodata & returnsdata.\\\u001b[0m\u001b[0;34m\u001b[0m\u001b[0;34m\u001b[0m\u001b[0m\n\u001b[1;32m      4\u001b[0m \u001b[0;34m\u001b[0m\u001b[0m\n\u001b[0;32m----> 5\u001b[0;31m \u001b[0manalystdata\u001b[0m\u001b[0;34m[\u001b[0m\u001b[0;34m'STATPERS'\u001b[0m\u001b[0;34m]\u001b[0m \u001b[0;34m=\u001b[0m \u001b[0mpd\u001b[0m\u001b[0;34m.\u001b[0m\u001b[0mto_datetime\u001b[0m\u001b[0;34m(\u001b[0m\u001b[0manalystdata\u001b[0m\u001b[0;34m[\u001b[0m\u001b[0;34m'STATPERS'\u001b[0m\u001b[0;34m]\u001b[0m\u001b[0;34m,\u001b[0m \u001b[0mformat\u001b[0m\u001b[0;34m=\u001b[0m\u001b[0;34m'%Y%m%d'\u001b[0m\u001b[0;34m)\u001b[0m\u001b[0;34m\u001b[0m\u001b[0;34m\u001b[0m\u001b[0m\n\u001b[0m\u001b[1;32m      6\u001b[0m \u001b[0;34m\u001b[0m\u001b[0m\n\u001b[1;32m      7\u001b[0m \u001b[0;31m# Shift the date column by 1 month backward\u001b[0m\u001b[0;34m\u001b[0m\u001b[0;34m\u001b[0m\u001b[0m\n",
      "\u001b[0;31mNameError\u001b[0m: name 'analystdata' is not defined"
     ]
    }
   ],
   "source": [
    "# merge Analyst_data with Merge1\n",
    "\n",
    "# Analyst_data is by mid of next month whereas financial & returns are by month end. hence transforming analystdata['date'] to set 15 days backwords to allign with financialratiodata & returnsdata.\\\n",
    "\n",
    "analystdata['STATPERS'] = pd.to_datetime(analystdata['STATPERS'], format='%Y%m%d')\n",
    "\n",
    "# Shift the date column by 1 month backward\n",
    "analystdata['STATPERS_backward'] = analystdata['STATPERS'] - pd.DateOffset(months=1)\n",
    "\n",
    "analystdata['DATE_YYYYMM'] = analystdata['STATPERS_backward'].apply(lambda x: x.strftime('%Y%m')) \n",
    "#AD['STATPERS_mmyyyy']  \n"
   ]
  },
  {
   "cell_type": "code",
   "execution_count": 4,
   "id": "273dad93",
   "metadata": {},
   "outputs": [
    {
     "ename": "NameError",
     "evalue": "name 'Merge1' is not defined",
     "output_type": "error",
     "traceback": [
      "\u001b[0;31m---------------------------------------------------------------------------\u001b[0m",
      "\u001b[0;31mNameError\u001b[0m                                 Traceback (most recent call last)",
      "\u001b[0;32m/var/folders/mx/rk8m_21x095c5rypcrl55ylh0000gn/T/ipykernel_22141/120276194.py\u001b[0m in \u001b[0;36m<module>\u001b[0;34m\u001b[0m\n\u001b[1;32m      1\u001b[0m \u001b[0;31m# merge analystdata with Merge1\u001b[0m\u001b[0;34m\u001b[0m\u001b[0;34m\u001b[0m\u001b[0m\n\u001b[1;32m      2\u001b[0m \u001b[0;34m\u001b[0m\u001b[0m\n\u001b[0;32m----> 3\u001b[0;31m \u001b[0mFinal_merged_data\u001b[0m \u001b[0;34m=\u001b[0m \u001b[0mpd\u001b[0m\u001b[0;34m.\u001b[0m\u001b[0mmerge\u001b[0m\u001b[0;34m(\u001b[0m\u001b[0mMerge1\u001b[0m\u001b[0;34m,\u001b[0m \u001b[0manalystdata\u001b[0m\u001b[0;34m,\u001b[0m \u001b[0mon\u001b[0m \u001b[0;34m=\u001b[0m \u001b[0;34m[\u001b[0m\u001b[0;34m'CUSIP'\u001b[0m\u001b[0;34m,\u001b[0m\u001b[0;34m'DATE_YYYYMM'\u001b[0m\u001b[0;34m]\u001b[0m\u001b[0;34m,\u001b[0m \u001b[0msuffixes\u001b[0m\u001b[0;34m=\u001b[0m\u001b[0;34m(\u001b[0m\u001b[0;34m''\u001b[0m\u001b[0;34m,\u001b[0m \u001b[0;34m'_drop'\u001b[0m\u001b[0;34m)\u001b[0m \u001b[0;34m)\u001b[0m\u001b[0;34m\u001b[0m\u001b[0;34m\u001b[0m\u001b[0m\n\u001b[0m\u001b[1;32m      4\u001b[0m \u001b[0mFinal_merged_data\u001b[0m\u001b[0;34m.\u001b[0m\u001b[0mdrop\u001b[0m\u001b[0;34m(\u001b[0m\u001b[0;34m[\u001b[0m\u001b[0mcol\u001b[0m \u001b[0;32mfor\u001b[0m \u001b[0mcol\u001b[0m \u001b[0;32min\u001b[0m \u001b[0mFinal_merged_data\u001b[0m\u001b[0;34m.\u001b[0m\u001b[0mcolumns\u001b[0m \u001b[0;32mif\u001b[0m \u001b[0;34m'drop'\u001b[0m \u001b[0;32min\u001b[0m \u001b[0mcol\u001b[0m\u001b[0;34m]\u001b[0m\u001b[0;34m,\u001b[0m \u001b[0maxis\u001b[0m\u001b[0;34m=\u001b[0m\u001b[0;36m1\u001b[0m\u001b[0;34m,\u001b[0m \u001b[0minplace\u001b[0m\u001b[0;34m=\u001b[0m\u001b[0;32mTrue\u001b[0m\u001b[0;34m)\u001b[0m\u001b[0;34m\u001b[0m\u001b[0;34m\u001b[0m\u001b[0m\n",
      "\u001b[0;31mNameError\u001b[0m: name 'Merge1' is not defined"
     ]
    }
   ],
   "source": [
    "# merge analystdata with Merge1\n",
    "\n",
    "Final_merged_data = pd.merge(Merge1, analystdata, on = ['CUSIP','DATE_YYYYMM'], suffixes=('', '_drop') )\n",
    "Final_merged_data.drop([col for col in Final_merged_data.columns if 'drop' in col], axis=1, inplace=True)\n"
   ]
  },
  {
   "cell_type": "code",
   "execution_count": 5,
   "id": "109f2a0b",
   "metadata": {},
   "outputs": [
    {
     "ename": "NameError",
     "evalue": "name 'Final_merged_data' is not defined",
     "output_type": "error",
     "traceback": [
      "\u001b[0;31m---------------------------------------------------------------------------\u001b[0m",
      "\u001b[0;31mNameError\u001b[0m                                 Traceback (most recent call last)",
      "\u001b[0;32m/var/folders/mx/rk8m_21x095c5rypcrl55ylh0000gn/T/ipykernel_22141/894019222.py\u001b[0m in \u001b[0;36m<module>\u001b[0;34m\u001b[0m\n\u001b[1;32m      1\u001b[0m \u001b[0;31m## Total number of instances & features in final merged dataset\u001b[0m\u001b[0;34m\u001b[0m\u001b[0;34m\u001b[0m\u001b[0m\n\u001b[1;32m      2\u001b[0m \u001b[0;34m\u001b[0m\u001b[0m\n\u001b[0;32m----> 3\u001b[0;31m \u001b[0mprint\u001b[0m\u001b[0;34m(\u001b[0m\u001b[0;34m\"Final_merged_data\"\u001b[0m\u001b[0;34m,\u001b[0m \u001b[0mFinal_merged_data\u001b[0m\u001b[0;34m.\u001b[0m\u001b[0mshape\u001b[0m\u001b[0;34m)\u001b[0m\u001b[0;34m\u001b[0m\u001b[0;34m\u001b[0m\u001b[0m\n\u001b[0m",
      "\u001b[0;31mNameError\u001b[0m: name 'Final_merged_data' is not defined"
     ]
    }
   ],
   "source": [
    "## Total number of instances & features in final merged dataset \n",
    "\n",
    "print(\"Final_merged_data\", Final_merged_data.shape)\n"
   ]
  },
  {
   "cell_type": "markdown",
   "id": "1eff8d5f",
   "metadata": {},
   "source": [
    "## Deriving Target variable "
   ]
  },
  {
   "cell_type": "code",
   "execution_count": 11,
   "id": "8fac1fb0",
   "metadata": {},
   "outputs": [
    {
     "name": "stderr",
     "output_type": "stream",
     "text": [
      "C:\\Users\\manch\\AppData\\Local\\Temp\\ipykernel_912\\2037815472.py:13: RuntimeWarning: invalid value encountered in double_scalars\n",
      "  Final_merged_data.loc[i,'PCT_CHN'] = (Final_merged_data.loc[i, 'BUYPCT'] - Final_merged_data.loc[i-1, 'BUYPCT']) / Final_merged_data.loc[i-1, 'BUYPCT']\n",
      "C:\\Users\\manch\\AppData\\Local\\Temp\\ipykernel_912\\2037815472.py:13: RuntimeWarning: divide by zero encountered in double_scalars\n",
      "  Final_merged_data.loc[i,'PCT_CHN'] = (Final_merged_data.loc[i, 'BUYPCT'] - Final_merged_data.loc[i-1, 'BUYPCT']) / Final_merged_data.loc[i-1, 'BUYPCT']\n"
     ]
    }
   ],
   "source": [
    "# # Sort the dataframe by CUSIP and date_x\n",
    "Final_merged_data = Final_merged_data.sort_values(by=['CUSIP', 'DATE_YYYYMM'])\n",
    "\n",
    "#Feature Engineering#\n",
    "# Create a new column 'PCT_CHN' to capture \n",
    "Final_merged_data['PCT_CHN'] = 0\n",
    "\n",
    "# Iterate over the rows of the dataframe\n",
    "for i in range(1, len(Final_merged_data)):\n",
    "# Check if the CUSIP code is the same as the previous row\n",
    "    if Final_merged_data.loc[i, 'CUSIP'] == Final_merged_data.loc[i-1, 'CUSIP']:\n",
    "# Calculate the percentage change between the current and previous row\n",
    "        Final_merged_data.loc[i,'PCT_CHN'] = (Final_merged_data.loc[i, 'BUYPCT'] - Final_merged_data.loc[i-1, 'BUYPCT']) / Final_merged_data.loc[i-1, 'BUYPCT']\n",
    "         "
   ]
  },
  {
   "cell_type": "code",
   "execution_count": 12,
   "id": "324453fa",
   "metadata": {},
   "outputs": [
    {
     "name": "stderr",
     "output_type": "stream",
     "text": [
      "C:\\Users\\manch\\AppData\\Local\\Temp\\ipykernel_912\\3494948780.py:12: RuntimeWarning: invalid value encountered in double_scalars\n",
      "  pct_change = (Final_merged_data.loc[i, 'BUYPCT'] - Final_merged_data.loc[i-1, 'BUYPCT']) / Final_merged_data.loc[i-1, 'BUYPCT']\n",
      "C:\\Users\\manch\\AppData\\Local\\Temp\\ipykernel_912\\3494948780.py:12: RuntimeWarning: divide by zero encountered in double_scalars\n",
      "  pct_change = (Final_merged_data.loc[i, 'BUYPCT'] - Final_merged_data.loc[i-1, 'BUYPCT']) / Final_merged_data.loc[i-1, 'BUYPCT']\n"
     ]
    }
   ],
   "source": [
    "\n",
    "# Sort the dataframe by CUSIP and date_x\n",
    "Final_merged_data = Final_merged_data.sort_values(by=['CUSIP', 'DATE_YYYYMM'])\n",
    "\n",
    "# Create a new column 'Target' and set its initial value to 'NoChange'\n",
    "Final_merged_data['Target'] = 'Drop'\n",
    "\n",
    "# Iterate over the rows of the dataframe\n",
    "for i in range(1, len(Final_merged_data)):\n",
    "# Check if the CUSIP code is the same as the previous row\n",
    "    if Final_merged_data.loc[i, 'CUSIP'] == Final_merged_data.loc[i-1, 'CUSIP']:\n",
    "# Calculate the percentage change between the current and previous row\n",
    "        pct_change = (Final_merged_data.loc[i, 'BUYPCT'] - Final_merged_data.loc[i-1, 'BUYPCT']) / Final_merged_data.loc[i-1, 'BUYPCT']\n",
    "# Check if the percentage change is greater than 10%\n",
    "    if pct_change > 0.01 and Final_merged_data.loc[i, 'BUYPCT'] !=0 and Final_merged_data.loc[i-1, 'BUYPCT'] !=0:\n",
    "        Final_merged_data.loc[i, 'Target'] = 'Upgrade'\n",
    "# Check if the percentage change is less than -10%\n",
    "    elif pct_change <= -0.01 and Final_merged_data.loc[i, 'BUYPCT'] !=0 and Final_merged_data.loc[i-1, 'BUYPCT'] !=0:\n",
    "        Final_merged_data.loc[i, 'Target'] = 'Downgrade'\n",
    "    elif pct_change == 0: \n",
    "        Final_merged_data.loc[i, 'Target'] = 'NoChange'\n",
    "    else:    \n",
    "        Final_merged_data.loc[i, 'Target'] = 'Drop'  "
   ]
  },
  {
   "cell_type": "code",
   "execution_count": 13,
   "id": "fd39645b",
   "metadata": {},
   "outputs": [],
   "source": [
    "\n",
    "# # Sort the dataframe by CUSIP and date_x\n",
    "# Final_merged_data = Final_merged_data.sort_values(by=['CUSIP', 'DATE_YYYYMM'])\n",
    "\n",
    "# # Create a new column 'Target' and set its initial value to 'NoChange'\n",
    "# Final_merged_data['Target'] = 'Drop'\n",
    "# Final_merged_data['pct_change'] = 0\n",
    "\n",
    "# # Iterate over the rows of the dataframe\n",
    "# for i in range(1, len(Final_merged_data)):\n",
    "# # Check if the CUSIP code is the same as the previous row\n",
    "#     if Final_merged_data.loc[i, 'CUSIP'] == Final_merged_data.loc[i-1, 'CUSIP']:\n",
    "# # Calculate the percentage change between the current and previous row\n",
    "#         Final_merged_data[i, 'pct_change'] = (Final_merged_data.loc[i, 'BUYPCT'] - Final_merged_data.loc[i-1, 'BUYPCT']) / Final_merged_data.loc[i-1, 'BUYPCT']\n",
    "# # Check if the percentage change is greater than 10%\n",
    "#     if Final_merged_data[i, 'pct_change'] > 0.01 and Final_merged_data.loc[i, 'BUYPCT'] !=0 and Final_merged_data.loc[i-1, 'BUYPCT'] !=0:\n",
    "#         Final_merged_data.loc[i, 'Target'] = 'Upgrade'\n",
    "# # Check if the percentage change is less than -10%\n",
    "#     elif Final_merged_data[i, 'pct_change'] <= -0.01 and Final_merged_data.loc[i, 'BUYPCT'] !=0 and Final_merged_data.loc[i-1, 'BUYPCT'] !=0:\n",
    "#         Final_merged_data.loc[i, 'Target'] = 'Downgrade'\n",
    "#     elif Final_merged_data[i, 'pct_change'] == 0: \n",
    "#         Final_merged_data.loc[i, 'Target'] = 'NoChange'\n",
    "#     else:    \n",
    "#         Final_merged_data.loc[i, 'Target'] = 'Drop'  "
   ]
  },
  {
   "cell_type": "code",
   "execution_count": 14,
   "id": "c09dba57",
   "metadata": {},
   "outputs": [],
   "source": [
    "# ## detect the missing values\n",
    "\n",
    "# ColumnNames_missingValues = Final_merged_data.loc[:,list(Final_merged_data.loc[:,Final_merged_data.isnull().any()].columns)].isnull().sum()/(len(Final_merged_data))*100\n",
    "\n",
    "# # Write DataFrame to a CSV file with the new column names\n",
    "# new_columns = [ 'Percentage']\n",
    "# ColumnNames_missingValues.columns = new_columns\n",
    "\n",
    "# ColumnNames_missingValues.to_csv('ColumnNames_missingValues.csv',  header=new_columns) \n"
   ]
  },
  {
   "cell_type": "code",
   "execution_count": 15,
   "id": "faba90ea",
   "metadata": {},
   "outputs": [],
   "source": [
    "## Approach 1 drop instances with missing values\n",
    "Final_merged_data = Final_merged_data.dropna()\n",
    "\n",
    "# Final_merged_data.shape"
   ]
  },
  {
   "cell_type": "code",
   "execution_count": 16,
   "id": "a90cbad7",
   "metadata": {},
   "outputs": [],
   "source": [
    "# drop the instances for which target value was unable to derive \n",
    "Final_merged_data = Final_merged_data[ ~(Final_merged_data['Target'] == 'Drop')]\n"
   ]
  },
  {
   "cell_type": "markdown",
   "id": "d5b1593e",
   "metadata": {},
   "source": [
    "### Correlation between PCT_CHN & Cusip Features"
   ]
  },
  {
   "cell_type": "code",
   "execution_count": 17,
   "id": "417a87e3",
   "metadata": {},
   "outputs": [],
   "source": [
    "import pandas as pd\n",
    "import seaborn as sns\n",
    "import matplotlib.pyplot as plt\n",
    "\n",
    "Selected_feat = ['PRICE_EARNING','EVM','PRICE_TO_BOOK','PRICE_SALE','GROSS_PROFIT','CAPEI','BOOK_MARKET','FRWD_1M_RET','FRWD_3M_RET','PAST 36M VOLATILITY' ,'BUYPCT' ]\n",
    "\n",
    "Final_merged_data_feat = Final_merged_data[Selected_feat]\n",
    "Final_merged_data_feat.head()\n",
    "\n",
    "corr = Final_merged_data_feat.corr()\n",
    "#sns.heatmap(corr, annot=True, cmap='green')\n",
    "#plt.show()\n",
    "\n"
   ]
  },
  {
   "cell_type": "code",
   "execution_count": 18,
   "id": "19467a2a",
   "metadata": {},
   "outputs": [
    {
     "name": "stderr",
     "output_type": "stream",
     "text": [
      "C:\\Users\\manch\\AppData\\Local\\Temp\\ipykernel_912\\44156803.py:4: FutureWarning: this method is deprecated in favour of `Styler.format(precision=..)`\n",
      "  (corr\n"
     ]
    },
    {
     "data": {
      "text/html": [
       "<style type=\"text/css\">\n",
       "#T_566fe_row0_col0, #T_566fe_row1_col1, #T_566fe_row2_col2, #T_566fe_row3_col3, #T_566fe_row4_col4, #T_566fe_row5_col5, #T_566fe_row6_col6, #T_566fe_row7_col7, #T_566fe_row8_col8, #T_566fe_row9_col9, #T_566fe_row10_col10 {\n",
       "  background-color: #b40426;\n",
       "  color: #f1f1f1;\n",
       "}\n",
       "#T_566fe_row0_col1, #T_566fe_row1_col0 {\n",
       "  background-color: #eed0c0;\n",
       "  color: #000000;\n",
       "}\n",
       "#T_566fe_row0_col2, #T_566fe_row2_col0 {\n",
       "  background-color: #e7d7ce;\n",
       "  color: #000000;\n",
       "}\n",
       "#T_566fe_row0_col3, #T_566fe_row0_col5, #T_566fe_row3_col0, #T_566fe_row5_col0 {\n",
       "  background-color: #edd2c3;\n",
       "  color: #000000;\n",
       "}\n",
       "#T_566fe_row0_col4, #T_566fe_row4_col0, #T_566fe_row5_col10, #T_566fe_row10_col5 {\n",
       "  background-color: #e5d8d1;\n",
       "  color: #000000;\n",
       "}\n",
       "#T_566fe_row0_col6, #T_566fe_row6_col0 {\n",
       "  background-color: #cbd8ee;\n",
       "  color: #000000;\n",
       "}\n",
       "#T_566fe_row0_col7, #T_566fe_row7_col0, #T_566fe_row8_col10, #T_566fe_row10_col8 {\n",
       "  background-color: #dbdcde;\n",
       "  color: #000000;\n",
       "}\n",
       "#T_566fe_row0_col8, #T_566fe_row6_col7, #T_566fe_row7_col6, #T_566fe_row8_col0 {\n",
       "  background-color: #d9dce1;\n",
       "  color: #000000;\n",
       "}\n",
       "#T_566fe_row0_col9, #T_566fe_row9_col0 {\n",
       "  background-color: #d1dae9;\n",
       "  color: #000000;\n",
       "}\n",
       "#T_566fe_row0_col10, #T_566fe_row3_col7, #T_566fe_row7_col3, #T_566fe_row8_col9, #T_566fe_row9_col8, #T_566fe_row9_col10, #T_566fe_row10_col0, #T_566fe_row10_col9 {\n",
       "  background-color: #dedcdb;\n",
       "  color: #000000;\n",
       "}\n",
       "#T_566fe_row1_col2, #T_566fe_row2_col1 {\n",
       "  background-color: #f1ccb8;\n",
       "  color: #000000;\n",
       "}\n",
       "#T_566fe_row1_col3, #T_566fe_row3_col1 {\n",
       "  background-color: #f7aa8c;\n",
       "  color: #000000;\n",
       "}\n",
       "#T_566fe_row1_col4, #T_566fe_row4_col1 {\n",
       "  background-color: #e9d5cb;\n",
       "  color: #000000;\n",
       "}\n",
       "#T_566fe_row1_col5, #T_566fe_row5_col1 {\n",
       "  background-color: #f2cab5;\n",
       "  color: #000000;\n",
       "}\n",
       "#T_566fe_row1_col6, #T_566fe_row3_col9, #T_566fe_row6_col1, #T_566fe_row9_col3 {\n",
       "  background-color: #abc8fd;\n",
       "  color: #000000;\n",
       "}\n",
       "#T_566fe_row1_col7, #T_566fe_row2_col8, #T_566fe_row7_col1, #T_566fe_row7_col9, #T_566fe_row7_col10, #T_566fe_row8_col2, #T_566fe_row9_col7, #T_566fe_row10_col7 {\n",
       "  background-color: #dfdbd9;\n",
       "  color: #000000;\n",
       "}\n",
       "#T_566fe_row1_col8, #T_566fe_row8_col1 {\n",
       "  background-color: #e1dad6;\n",
       "  color: #000000;\n",
       "}\n",
       "#T_566fe_row1_col9, #T_566fe_row2_col9, #T_566fe_row9_col1, #T_566fe_row9_col2 {\n",
       "  background-color: #b5cdfa;\n",
       "  color: #000000;\n",
       "}\n",
       "#T_566fe_row1_col10, #T_566fe_row3_col8, #T_566fe_row8_col3, #T_566fe_row10_col1 {\n",
       "  background-color: #e0dbd8;\n",
       "  color: #000000;\n",
       "}\n",
       "#T_566fe_row2_col3, #T_566fe_row3_col2 {\n",
       "  background-color: #f2c9b4;\n",
       "  color: #000000;\n",
       "}\n",
       "#T_566fe_row2_col4, #T_566fe_row4_col2 {\n",
       "  background-color: #f1cdba;\n",
       "  color: #000000;\n",
       "}\n",
       "#T_566fe_row2_col5, #T_566fe_row5_col2 {\n",
       "  background-color: #ead4c8;\n",
       "  color: #000000;\n",
       "}\n",
       "#T_566fe_row2_col6, #T_566fe_row6_col2 {\n",
       "  background-color: #90b2fe;\n",
       "  color: #000000;\n",
       "}\n",
       "#T_566fe_row2_col7, #T_566fe_row3_col4, #T_566fe_row4_col3, #T_566fe_row7_col2 {\n",
       "  background-color: #dddcdc;\n",
       "  color: #000000;\n",
       "}\n",
       "#T_566fe_row2_col10, #T_566fe_row10_col2 {\n",
       "  background-color: #cedaeb;\n",
       "  color: #000000;\n",
       "}\n",
       "#T_566fe_row3_col5, #T_566fe_row5_col3 {\n",
       "  background-color: #f7b599;\n",
       "  color: #000000;\n",
       "}\n",
       "#T_566fe_row3_col6, #T_566fe_row6_col3 {\n",
       "  background-color: #9ebeff;\n",
       "  color: #000000;\n",
       "}\n",
       "#T_566fe_row3_col10, #T_566fe_row5_col8, #T_566fe_row6_col8, #T_566fe_row8_col5, #T_566fe_row8_col6, #T_566fe_row10_col3 {\n",
       "  background-color: #d4dbe6;\n",
       "  color: #000000;\n",
       "}\n",
       "#T_566fe_row4_col5, #T_566fe_row5_col4 {\n",
       "  background-color: #e8d6cc;\n",
       "  color: #000000;\n",
       "}\n",
       "#T_566fe_row4_col6, #T_566fe_row6_col4 {\n",
       "  background-color: #9fbfff;\n",
       "  color: #000000;\n",
       "}\n",
       "#T_566fe_row4_col7, #T_566fe_row7_col4 {\n",
       "  background-color: #d7dce3;\n",
       "  color: #000000;\n",
       "}\n",
       "#T_566fe_row4_col8, #T_566fe_row8_col4 {\n",
       "  background-color: #d6dce4;\n",
       "  color: #000000;\n",
       "}\n",
       "#T_566fe_row4_col9, #T_566fe_row9_col4 {\n",
       "  background-color: #d2dbe8;\n",
       "  color: #000000;\n",
       "}\n",
       "#T_566fe_row4_col10, #T_566fe_row10_col4 {\n",
       "  background-color: #c7d7f0;\n",
       "  color: #000000;\n",
       "}\n",
       "#T_566fe_row5_col6, #T_566fe_row6_col5 {\n",
       "  background-color: #bbd1f8;\n",
       "  color: #000000;\n",
       "}\n",
       "#T_566fe_row5_col7, #T_566fe_row7_col5 {\n",
       "  background-color: #d8dce2;\n",
       "  color: #000000;\n",
       "}\n",
       "#T_566fe_row5_col9, #T_566fe_row9_col5 {\n",
       "  background-color: #bfd3f6;\n",
       "  color: #000000;\n",
       "}\n",
       "#T_566fe_row6_col9, #T_566fe_row9_col6 {\n",
       "  background-color: #f59d7e;\n",
       "  color: #000000;\n",
       "}\n",
       "#T_566fe_row6_col10, #T_566fe_row10_col6 {\n",
       "  background-color: #ead5c9;\n",
       "  color: #000000;\n",
       "}\n",
       "#T_566fe_row7_col8, #T_566fe_row8_col7 {\n",
       "  background-color: #ef886b;\n",
       "  color: #f1f1f1;\n",
       "}\n",
       "</style>\n",
       "<table id=\"T_566fe\">\n",
       "  <thead>\n",
       "    <tr>\n",
       "      <th class=\"blank level0\" >&nbsp;</th>\n",
       "      <th id=\"T_566fe_level0_col0\" class=\"col_heading level0 col0\" >PRICE_EARNING</th>\n",
       "      <th id=\"T_566fe_level0_col1\" class=\"col_heading level0 col1\" >EVM</th>\n",
       "      <th id=\"T_566fe_level0_col2\" class=\"col_heading level0 col2\" >PRICE_TO_BOOK</th>\n",
       "      <th id=\"T_566fe_level0_col3\" class=\"col_heading level0 col3\" >PRICE_SALE</th>\n",
       "      <th id=\"T_566fe_level0_col4\" class=\"col_heading level0 col4\" >GROSS_PROFIT</th>\n",
       "      <th id=\"T_566fe_level0_col5\" class=\"col_heading level0 col5\" >CAPEI</th>\n",
       "      <th id=\"T_566fe_level0_col6\" class=\"col_heading level0 col6\" >BOOK_MARKET</th>\n",
       "      <th id=\"T_566fe_level0_col7\" class=\"col_heading level0 col7\" >FRWD_1M_RET</th>\n",
       "      <th id=\"T_566fe_level0_col8\" class=\"col_heading level0 col8\" >FRWD_3M_RET</th>\n",
       "      <th id=\"T_566fe_level0_col9\" class=\"col_heading level0 col9\" >PAST 36M VOLATILITY</th>\n",
       "      <th id=\"T_566fe_level0_col10\" class=\"col_heading level0 col10\" >BUYPCT</th>\n",
       "    </tr>\n",
       "  </thead>\n",
       "  <tbody>\n",
       "    <tr>\n",
       "      <th id=\"T_566fe_level0_row0\" class=\"row_heading level0 row0\" >PRICE_EARNING</th>\n",
       "      <td id=\"T_566fe_row0_col0\" class=\"data row0 col0\" >1.00</td>\n",
       "      <td id=\"T_566fe_row0_col1\" class=\"data row0 col1\" >0.15</td>\n",
       "      <td id=\"T_566fe_row0_col2\" class=\"data row0 col2\" >0.08</td>\n",
       "      <td id=\"T_566fe_row0_col3\" class=\"data row0 col3\" >0.14</td>\n",
       "      <td id=\"T_566fe_row0_col4\" class=\"data row0 col4\" >0.07</td>\n",
       "      <td id=\"T_566fe_row0_col5\" class=\"data row0 col5\" >0.14</td>\n",
       "      <td id=\"T_566fe_row0_col6\" class=\"data row0 col6\" >-0.13</td>\n",
       "      <td id=\"T_566fe_row0_col7\" class=\"data row0 col7\" >-0.01</td>\n",
       "      <td id=\"T_566fe_row0_col8\" class=\"data row0 col8\" >-0.03</td>\n",
       "      <td id=\"T_566fe_row0_col9\" class=\"data row0 col9\" >-0.09</td>\n",
       "      <td id=\"T_566fe_row0_col10\" class=\"data row0 col10\" >0.01</td>\n",
       "    </tr>\n",
       "    <tr>\n",
       "      <th id=\"T_566fe_level0_row1\" class=\"row_heading level0 row1\" >EVM</th>\n",
       "      <td id=\"T_566fe_row1_col0\" class=\"data row1 col0\" >0.15</td>\n",
       "      <td id=\"T_566fe_row1_col1\" class=\"data row1 col1\" >1.00</td>\n",
       "      <td id=\"T_566fe_row1_col2\" class=\"data row1 col2\" >0.19</td>\n",
       "      <td id=\"T_566fe_row1_col3\" class=\"data row1 col3\" >0.41</td>\n",
       "      <td id=\"T_566fe_row1_col4\" class=\"data row1 col4\" >0.10</td>\n",
       "      <td id=\"T_566fe_row1_col5\" class=\"data row1 col5\" >0.21</td>\n",
       "      <td id=\"T_566fe_row1_col6\" class=\"data row1 col6\" >-0.33</td>\n",
       "      <td id=\"T_566fe_row1_col7\" class=\"data row1 col7\" >0.02</td>\n",
       "      <td id=\"T_566fe_row1_col8\" class=\"data row1 col8\" >0.04</td>\n",
       "      <td id=\"T_566fe_row1_col9\" class=\"data row1 col9\" >-0.27</td>\n",
       "      <td id=\"T_566fe_row1_col10\" class=\"data row1 col10\" >0.03</td>\n",
       "    </tr>\n",
       "    <tr>\n",
       "      <th id=\"T_566fe_level0_row2\" class=\"row_heading level0 row2\" >PRICE_TO_BOOK</th>\n",
       "      <td id=\"T_566fe_row2_col0\" class=\"data row2 col0\" >0.08</td>\n",
       "      <td id=\"T_566fe_row2_col1\" class=\"data row2 col1\" >0.19</td>\n",
       "      <td id=\"T_566fe_row2_col2\" class=\"data row2 col2\" >1.00</td>\n",
       "      <td id=\"T_566fe_row2_col3\" class=\"data row2 col3\" >0.21</td>\n",
       "      <td id=\"T_566fe_row2_col4\" class=\"data row2 col4\" >0.19</td>\n",
       "      <td id=\"T_566fe_row2_col5\" class=\"data row2 col5\" >0.11</td>\n",
       "      <td id=\"T_566fe_row2_col6\" class=\"data row2 col6\" >-0.48</td>\n",
       "      <td id=\"T_566fe_row2_col7\" class=\"data row2 col7\" >0.01</td>\n",
       "      <td id=\"T_566fe_row2_col8\" class=\"data row2 col8\" >0.02</td>\n",
       "      <td id=\"T_566fe_row2_col9\" class=\"data row2 col9\" >-0.27</td>\n",
       "      <td id=\"T_566fe_row2_col10\" class=\"data row2 col10\" >-0.11</td>\n",
       "    </tr>\n",
       "    <tr>\n",
       "      <th id=\"T_566fe_level0_row3\" class=\"row_heading level0 row3\" >PRICE_SALE</th>\n",
       "      <td id=\"T_566fe_row3_col0\" class=\"data row3 col0\" >0.14</td>\n",
       "      <td id=\"T_566fe_row3_col1\" class=\"data row3 col1\" >0.41</td>\n",
       "      <td id=\"T_566fe_row3_col2\" class=\"data row3 col2\" >0.21</td>\n",
       "      <td id=\"T_566fe_row3_col3\" class=\"data row3 col3\" >1.00</td>\n",
       "      <td id=\"T_566fe_row3_col4\" class=\"data row3 col4\" >0.00</td>\n",
       "      <td id=\"T_566fe_row3_col5\" class=\"data row3 col5\" >0.35</td>\n",
       "      <td id=\"T_566fe_row3_col6\" class=\"data row3 col6\" >-0.40</td>\n",
       "      <td id=\"T_566fe_row3_col7\" class=\"data row3 col7\" >0.01</td>\n",
       "      <td id=\"T_566fe_row3_col8\" class=\"data row3 col8\" >0.03</td>\n",
       "      <td id=\"T_566fe_row3_col9\" class=\"data row3 col9\" >-0.32</td>\n",
       "      <td id=\"T_566fe_row3_col10\" class=\"data row3 col10\" >-0.07</td>\n",
       "    </tr>\n",
       "    <tr>\n",
       "      <th id=\"T_566fe_level0_row4\" class=\"row_heading level0 row4\" >GROSS_PROFIT</th>\n",
       "      <td id=\"T_566fe_row4_col0\" class=\"data row4 col0\" >0.07</td>\n",
       "      <td id=\"T_566fe_row4_col1\" class=\"data row4 col1\" >0.10</td>\n",
       "      <td id=\"T_566fe_row4_col2\" class=\"data row4 col2\" >0.19</td>\n",
       "      <td id=\"T_566fe_row4_col3\" class=\"data row4 col3\" >0.00</td>\n",
       "      <td id=\"T_566fe_row4_col4\" class=\"data row4 col4\" >1.00</td>\n",
       "      <td id=\"T_566fe_row4_col5\" class=\"data row4 col5\" >0.09</td>\n",
       "      <td id=\"T_566fe_row4_col6\" class=\"data row4 col6\" >-0.39</td>\n",
       "      <td id=\"T_566fe_row4_col7\" class=\"data row4 col7\" >-0.04</td>\n",
       "      <td id=\"T_566fe_row4_col8\" class=\"data row4 col8\" >-0.05</td>\n",
       "      <td id=\"T_566fe_row4_col9\" class=\"data row4 col9\" >-0.08</td>\n",
       "      <td id=\"T_566fe_row4_col10\" class=\"data row4 col10\" >-0.15</td>\n",
       "    </tr>\n",
       "    <tr>\n",
       "      <th id=\"T_566fe_level0_row5\" class=\"row_heading level0 row5\" >CAPEI</th>\n",
       "      <td id=\"T_566fe_row5_col0\" class=\"data row5 col0\" >0.14</td>\n",
       "      <td id=\"T_566fe_row5_col1\" class=\"data row5 col1\" >0.21</td>\n",
       "      <td id=\"T_566fe_row5_col2\" class=\"data row5 col2\" >0.11</td>\n",
       "      <td id=\"T_566fe_row5_col3\" class=\"data row5 col3\" >0.35</td>\n",
       "      <td id=\"T_566fe_row5_col4\" class=\"data row5 col4\" >0.09</td>\n",
       "      <td id=\"T_566fe_row5_col5\" class=\"data row5 col5\" >1.00</td>\n",
       "      <td id=\"T_566fe_row5_col6\" class=\"data row5 col6\" >-0.23</td>\n",
       "      <td id=\"T_566fe_row5_col7\" class=\"data row5 col7\" >-0.04</td>\n",
       "      <td id=\"T_566fe_row5_col8\" class=\"data row5 col8\" >-0.06</td>\n",
       "      <td id=\"T_566fe_row5_col9\" class=\"data row5 col9\" >-0.21</td>\n",
       "      <td id=\"T_566fe_row5_col10\" class=\"data row5 col10\" >0.07</td>\n",
       "    </tr>\n",
       "    <tr>\n",
       "      <th id=\"T_566fe_level0_row6\" class=\"row_heading level0 row6\" >BOOK_MARKET</th>\n",
       "      <td id=\"T_566fe_row6_col0\" class=\"data row6 col0\" >-0.13</td>\n",
       "      <td id=\"T_566fe_row6_col1\" class=\"data row6 col1\" >-0.33</td>\n",
       "      <td id=\"T_566fe_row6_col2\" class=\"data row6 col2\" >-0.48</td>\n",
       "      <td id=\"T_566fe_row6_col3\" class=\"data row6 col3\" >-0.40</td>\n",
       "      <td id=\"T_566fe_row6_col4\" class=\"data row6 col4\" >-0.39</td>\n",
       "      <td id=\"T_566fe_row6_col5\" class=\"data row6 col5\" >-0.23</td>\n",
       "      <td id=\"T_566fe_row6_col6\" class=\"data row6 col6\" >1.00</td>\n",
       "      <td id=\"T_566fe_row6_col7\" class=\"data row6 col7\" >-0.03</td>\n",
       "      <td id=\"T_566fe_row6_col8\" class=\"data row6 col8\" >-0.06</td>\n",
       "      <td id=\"T_566fe_row6_col9\" class=\"data row6 col9\" >0.48</td>\n",
       "      <td id=\"T_566fe_row6_col10\" class=\"data row6 col10\" >0.11</td>\n",
       "    </tr>\n",
       "    <tr>\n",
       "      <th id=\"T_566fe_level0_row7\" class=\"row_heading level0 row7\" >FRWD_1M_RET</th>\n",
       "      <td id=\"T_566fe_row7_col0\" class=\"data row7 col0\" >-0.01</td>\n",
       "      <td id=\"T_566fe_row7_col1\" class=\"data row7 col1\" >0.02</td>\n",
       "      <td id=\"T_566fe_row7_col2\" class=\"data row7 col2\" >0.01</td>\n",
       "      <td id=\"T_566fe_row7_col3\" class=\"data row7 col3\" >0.01</td>\n",
       "      <td id=\"T_566fe_row7_col4\" class=\"data row7 col4\" >-0.04</td>\n",
       "      <td id=\"T_566fe_row7_col5\" class=\"data row7 col5\" >-0.04</td>\n",
       "      <td id=\"T_566fe_row7_col6\" class=\"data row7 col6\" >-0.03</td>\n",
       "      <td id=\"T_566fe_row7_col7\" class=\"data row7 col7\" >1.00</td>\n",
       "      <td id=\"T_566fe_row7_col8\" class=\"data row7 col8\" >0.58</td>\n",
       "      <td id=\"T_566fe_row7_col9\" class=\"data row7 col9\" >0.02</td>\n",
       "      <td id=\"T_566fe_row7_col10\" class=\"data row7 col10\" >0.02</td>\n",
       "    </tr>\n",
       "    <tr>\n",
       "      <th id=\"T_566fe_level0_row8\" class=\"row_heading level0 row8\" >FRWD_3M_RET</th>\n",
       "      <td id=\"T_566fe_row8_col0\" class=\"data row8 col0\" >-0.03</td>\n",
       "      <td id=\"T_566fe_row8_col1\" class=\"data row8 col1\" >0.04</td>\n",
       "      <td id=\"T_566fe_row8_col2\" class=\"data row8 col2\" >0.02</td>\n",
       "      <td id=\"T_566fe_row8_col3\" class=\"data row8 col3\" >0.03</td>\n",
       "      <td id=\"T_566fe_row8_col4\" class=\"data row8 col4\" >-0.05</td>\n",
       "      <td id=\"T_566fe_row8_col5\" class=\"data row8 col5\" >-0.06</td>\n",
       "      <td id=\"T_566fe_row8_col6\" class=\"data row8 col6\" >-0.06</td>\n",
       "      <td id=\"T_566fe_row8_col7\" class=\"data row8 col7\" >0.58</td>\n",
       "      <td id=\"T_566fe_row8_col8\" class=\"data row8 col8\" >1.00</td>\n",
       "      <td id=\"T_566fe_row8_col9\" class=\"data row8 col9\" >0.01</td>\n",
       "      <td id=\"T_566fe_row8_col10\" class=\"data row8 col10\" >-0.01</td>\n",
       "    </tr>\n",
       "    <tr>\n",
       "      <th id=\"T_566fe_level0_row9\" class=\"row_heading level0 row9\" >PAST 36M VOLATILITY</th>\n",
       "      <td id=\"T_566fe_row9_col0\" class=\"data row9 col0\" >-0.09</td>\n",
       "      <td id=\"T_566fe_row9_col1\" class=\"data row9 col1\" >-0.27</td>\n",
       "      <td id=\"T_566fe_row9_col2\" class=\"data row9 col2\" >-0.27</td>\n",
       "      <td id=\"T_566fe_row9_col3\" class=\"data row9 col3\" >-0.32</td>\n",
       "      <td id=\"T_566fe_row9_col4\" class=\"data row9 col4\" >-0.08</td>\n",
       "      <td id=\"T_566fe_row9_col5\" class=\"data row9 col5\" >-0.21</td>\n",
       "      <td id=\"T_566fe_row9_col6\" class=\"data row9 col6\" >0.48</td>\n",
       "      <td id=\"T_566fe_row9_col7\" class=\"data row9 col7\" >0.02</td>\n",
       "      <td id=\"T_566fe_row9_col8\" class=\"data row9 col8\" >0.01</td>\n",
       "      <td id=\"T_566fe_row9_col9\" class=\"data row9 col9\" >1.00</td>\n",
       "      <td id=\"T_566fe_row9_col10\" class=\"data row9 col10\" >0.01</td>\n",
       "    </tr>\n",
       "    <tr>\n",
       "      <th id=\"T_566fe_level0_row10\" class=\"row_heading level0 row10\" >BUYPCT</th>\n",
       "      <td id=\"T_566fe_row10_col0\" class=\"data row10 col0\" >0.01</td>\n",
       "      <td id=\"T_566fe_row10_col1\" class=\"data row10 col1\" >0.03</td>\n",
       "      <td id=\"T_566fe_row10_col2\" class=\"data row10 col2\" >-0.11</td>\n",
       "      <td id=\"T_566fe_row10_col3\" class=\"data row10 col3\" >-0.07</td>\n",
       "      <td id=\"T_566fe_row10_col4\" class=\"data row10 col4\" >-0.15</td>\n",
       "      <td id=\"T_566fe_row10_col5\" class=\"data row10 col5\" >0.07</td>\n",
       "      <td id=\"T_566fe_row10_col6\" class=\"data row10 col6\" >0.11</td>\n",
       "      <td id=\"T_566fe_row10_col7\" class=\"data row10 col7\" >0.02</td>\n",
       "      <td id=\"T_566fe_row10_col8\" class=\"data row10 col8\" >-0.01</td>\n",
       "      <td id=\"T_566fe_row10_col9\" class=\"data row10 col9\" >0.01</td>\n",
       "      <td id=\"T_566fe_row10_col10\" class=\"data row10 col10\" >1.00</td>\n",
       "    </tr>\n",
       "  </tbody>\n",
       "</table>\n"
      ],
      "text/plain": [
       "<pandas.io.formats.style.Styler at 0x23bc197d5e0>"
      ]
     },
     "execution_count": 18,
     "metadata": {},
     "output_type": "execute_result"
    }
   ],
   "source": [
    "# Fill diagonal and upper half with NaNs\n",
    "#mask[np.triu_indices_from(mask)] = True\n",
    "\n",
    "(corr\n",
    " .style\n",
    " .background_gradient(cmap='coolwarm', axis=None, vmin=-1, vmax=1)\n",
    " .highlight_null(null_color='#f1f1f1')  # Color NaNs grey\n",
    " .set_precision(2))"
   ]
  },
  {
   "cell_type": "code",
   "execution_count": 19,
   "id": "edab9eba",
   "metadata": {
    "scrolled": true
   },
   "outputs": [
    {
     "data": {
      "text/plain": [
       "<AxesSubplot:>"
      ]
     },
     "execution_count": 19,
     "metadata": {},
     "output_type": "execute_result"
    },
    {
     "data": {
      "image/png": "[encoded data removed]",
      "text/plain": [
       "<Figure size 1000x800 with 2 Axes>"
      ]
     },
     "metadata": {},
     "output_type": "display_data"
    }
   ],
   "source": [
    "f, ax = plt.subplots(figsize=(10, 8))\n",
    "sns.heatmap(corr,\n",
    "    cmap=sns.diverging_palette(220, 10, as_cmap=True),\n",
    "    vmin=-1.0, vmax=1.0,\n",
    "    square=True, ax=ax)"
   ]
  },
  {
   "cell_type": "code",
   "execution_count": null,
   "id": "aa1c1d3b",
   "metadata": {},
   "outputs": [],
   "source": [
    "import seaborn as sns\n",
    "import pandas as pd\n",
    "\n",
    "# Create the pair plot with some customizations\n",
    "sns.pairplot(Final_merged_data, hue=\"BUYPCT\", palette=\"husl\", markers=[\"o\", \"s\", \"D\"])"
   ]
  },
  {
   "cell_type": "code",
   "execution_count": 20,
   "id": "3d7dde3e",
   "metadata": {},
   "outputs": [],
   "source": [
    "Final_merged_data.to_csv(\"C:/Personal/1 MMA/1 MMA 823 Analytics for Financial Markets/Team Projects/DataSet/Intermedietery_Files/Final_merged_data_BUYPCT.csv\", index = False)"
   ]
  },
  {
   "cell_type": "code",
   "execution_count": 21,
   "id": "1ae8505e",
   "metadata": {},
   "outputs": [
    {
     "data": {
      "text/plain": [
       "(4189, 107)"
      ]
     },
     "execution_count": 21,
     "metadata": {},
     "output_type": "execute_result"
    }
   ],
   "source": [
    "Final_merged_data.shape"
   ]
  },
  {
   "cell_type": "code",
   "execution_count": 22,
   "id": "d0a3eef3",
   "metadata": {},
   "outputs": [
    {
     "ename": "KeyError",
     "evalue": "\"['CUSIPDATE'] not found in axis\"",
     "output_type": "error",
     "traceback": [
      "\u001b[1;31m---------------------------------------------------------------------------\u001b[0m",
      "\u001b[1;31mKeyError\u001b[0m                                  Traceback (most recent call last)",
      "\u001b[1;32m~\\AppData\\Local\\Temp\\ipykernel_912\\934260827.py\u001b[0m in \u001b[0;36m<module>\u001b[1;34m\u001b[0m\n\u001b[0;32m     22\u001b[0m 'STATPERS_backward']\n\u001b[0;32m     23\u001b[0m \u001b[1;33m\u001b[0m\u001b[0m\n\u001b[1;32m---> 24\u001b[1;33m \u001b[0mFinal_merged_data\u001b[0m \u001b[1;33m=\u001b[0m \u001b[0mFinal_merged_data\u001b[0m\u001b[1;33m.\u001b[0m\u001b[0mdrop\u001b[0m\u001b[1;33m(\u001b[0m\u001b[0mdrop\u001b[0m\u001b[1;33m,\u001b[0m\u001b[0maxis\u001b[0m \u001b[1;33m=\u001b[0m \u001b[1;36m1\u001b[0m\u001b[1;33m)\u001b[0m\u001b[1;33m\u001b[0m\u001b[1;33m\u001b[0m\u001b[0m\n\u001b[0m\u001b[0;32m     25\u001b[0m \u001b[1;33m\u001b[0m\u001b[0m\n",
      "\u001b[1;32m~\\anaconda3\\lib\\site-packages\\pandas\\util\\_decorators.py\u001b[0m in \u001b[0;36mwrapper\u001b[1;34m(*args, **kwargs)\u001b[0m\n\u001b[0;32m    309\u001b[0m                     \u001b[0mstacklevel\u001b[0m\u001b[1;33m=\u001b[0m\u001b[0mstacklevel\u001b[0m\u001b[1;33m,\u001b[0m\u001b[1;33m\u001b[0m\u001b[1;33m\u001b[0m\u001b[0m\n\u001b[0;32m    310\u001b[0m                 )\n\u001b[1;32m--> 311\u001b[1;33m             \u001b[1;32mreturn\u001b[0m \u001b[0mfunc\u001b[0m\u001b[1;33m(\u001b[0m\u001b[1;33m*\u001b[0m\u001b[0margs\u001b[0m\u001b[1;33m,\u001b[0m \u001b[1;33m**\u001b[0m\u001b[0mkwargs\u001b[0m\u001b[1;33m)\u001b[0m\u001b[1;33m\u001b[0m\u001b[1;33m\u001b[0m\u001b[0m\n\u001b[0m\u001b[0;32m    312\u001b[0m \u001b[1;33m\u001b[0m\u001b[0m\n\u001b[0;32m    313\u001b[0m         \u001b[1;32mreturn\u001b[0m \u001b[0mwrapper\u001b[0m\u001b[1;33m\u001b[0m\u001b[1;33m\u001b[0m\u001b[0m\n",
      "\u001b[1;32m~\\anaconda3\\lib\\site-packages\\pandas\\core\\frame.py\u001b[0m in \u001b[0;36mdrop\u001b[1;34m(self, labels, axis, index, columns, level, inplace, errors)\u001b[0m\n\u001b[0;32m   4955\u001b[0m                 \u001b[0mweight\u001b[0m  \u001b[1;36m1.0\u001b[0m     \u001b[1;36m0.8\u001b[0m\u001b[1;33m\u001b[0m\u001b[1;33m\u001b[0m\u001b[0m\n\u001b[0;32m   4956\u001b[0m         \"\"\"\n\u001b[1;32m-> 4957\u001b[1;33m         return super().drop(\n\u001b[0m\u001b[0;32m   4958\u001b[0m             \u001b[0mlabels\u001b[0m\u001b[1;33m=\u001b[0m\u001b[0mlabels\u001b[0m\u001b[1;33m,\u001b[0m\u001b[1;33m\u001b[0m\u001b[1;33m\u001b[0m\u001b[0m\n\u001b[0;32m   4959\u001b[0m             \u001b[0maxis\u001b[0m\u001b[1;33m=\u001b[0m\u001b[0maxis\u001b[0m\u001b[1;33m,\u001b[0m\u001b[1;33m\u001b[0m\u001b[1;33m\u001b[0m\u001b[0m\n",
      "\u001b[1;32m~\\anaconda3\\lib\\site-packages\\pandas\\core\\generic.py\u001b[0m in \u001b[0;36mdrop\u001b[1;34m(self, labels, axis, index, columns, level, inplace, errors)\u001b[0m\n\u001b[0;32m   4265\u001b[0m         \u001b[1;32mfor\u001b[0m \u001b[0maxis\u001b[0m\u001b[1;33m,\u001b[0m \u001b[0mlabels\u001b[0m \u001b[1;32min\u001b[0m \u001b[0maxes\u001b[0m\u001b[1;33m.\u001b[0m\u001b[0mitems\u001b[0m\u001b[1;33m(\u001b[0m\u001b[1;33m)\u001b[0m\u001b[1;33m:\u001b[0m\u001b[1;33m\u001b[0m\u001b[1;33m\u001b[0m\u001b[0m\n\u001b[0;32m   4266\u001b[0m             \u001b[1;32mif\u001b[0m \u001b[0mlabels\u001b[0m \u001b[1;32mis\u001b[0m \u001b[1;32mnot\u001b[0m \u001b[1;32mNone\u001b[0m\u001b[1;33m:\u001b[0m\u001b[1;33m\u001b[0m\u001b[1;33m\u001b[0m\u001b[0m\n\u001b[1;32m-> 4267\u001b[1;33m                 \u001b[0mobj\u001b[0m \u001b[1;33m=\u001b[0m \u001b[0mobj\u001b[0m\u001b[1;33m.\u001b[0m\u001b[0m_drop_axis\u001b[0m\u001b[1;33m(\u001b[0m\u001b[0mlabels\u001b[0m\u001b[1;33m,\u001b[0m \u001b[0maxis\u001b[0m\u001b[1;33m,\u001b[0m \u001b[0mlevel\u001b[0m\u001b[1;33m=\u001b[0m\u001b[0mlevel\u001b[0m\u001b[1;33m,\u001b[0m \u001b[0merrors\u001b[0m\u001b[1;33m=\u001b[0m\u001b[0merrors\u001b[0m\u001b[1;33m)\u001b[0m\u001b[1;33m\u001b[0m\u001b[1;33m\u001b[0m\u001b[0m\n\u001b[0m\u001b[0;32m   4268\u001b[0m \u001b[1;33m\u001b[0m\u001b[0m\n\u001b[0;32m   4269\u001b[0m         \u001b[1;32mif\u001b[0m \u001b[0minplace\u001b[0m\u001b[1;33m:\u001b[0m\u001b[1;33m\u001b[0m\u001b[1;33m\u001b[0m\u001b[0m\n",
      "\u001b[1;32m~\\anaconda3\\lib\\site-packages\\pandas\\core\\generic.py\u001b[0m in \u001b[0;36m_drop_axis\u001b[1;34m(self, labels, axis, level, errors, consolidate, only_slice)\u001b[0m\n\u001b[0;32m   4309\u001b[0m                 \u001b[0mnew_axis\u001b[0m \u001b[1;33m=\u001b[0m \u001b[0maxis\u001b[0m\u001b[1;33m.\u001b[0m\u001b[0mdrop\u001b[0m\u001b[1;33m(\u001b[0m\u001b[0mlabels\u001b[0m\u001b[1;33m,\u001b[0m \u001b[0mlevel\u001b[0m\u001b[1;33m=\u001b[0m\u001b[0mlevel\u001b[0m\u001b[1;33m,\u001b[0m \u001b[0merrors\u001b[0m\u001b[1;33m=\u001b[0m\u001b[0merrors\u001b[0m\u001b[1;33m)\u001b[0m\u001b[1;33m\u001b[0m\u001b[1;33m\u001b[0m\u001b[0m\n\u001b[0;32m   4310\u001b[0m             \u001b[1;32melse\u001b[0m\u001b[1;33m:\u001b[0m\u001b[1;33m\u001b[0m\u001b[1;33m\u001b[0m\u001b[0m\n\u001b[1;32m-> 4311\u001b[1;33m                 \u001b[0mnew_axis\u001b[0m \u001b[1;33m=\u001b[0m \u001b[0maxis\u001b[0m\u001b[1;33m.\u001b[0m\u001b[0mdrop\u001b[0m\u001b[1;33m(\u001b[0m\u001b[0mlabels\u001b[0m\u001b[1;33m,\u001b[0m \u001b[0merrors\u001b[0m\u001b[1;33m=\u001b[0m\u001b[0merrors\u001b[0m\u001b[1;33m)\u001b[0m\u001b[1;33m\u001b[0m\u001b[1;33m\u001b[0m\u001b[0m\n\u001b[0m\u001b[0;32m   4312\u001b[0m             \u001b[0mindexer\u001b[0m \u001b[1;33m=\u001b[0m \u001b[0maxis\u001b[0m\u001b[1;33m.\u001b[0m\u001b[0mget_indexer\u001b[0m\u001b[1;33m(\u001b[0m\u001b[0mnew_axis\u001b[0m\u001b[1;33m)\u001b[0m\u001b[1;33m\u001b[0m\u001b[1;33m\u001b[0m\u001b[0m\n\u001b[0;32m   4313\u001b[0m \u001b[1;33m\u001b[0m\u001b[0m\n",
      "\u001b[1;32m~\\anaconda3\\lib\\site-packages\\pandas\\core\\indexes\\base.py\u001b[0m in \u001b[0;36mdrop\u001b[1;34m(self, labels, errors)\u001b[0m\n\u001b[0;32m   6659\u001b[0m         \u001b[1;32mif\u001b[0m \u001b[0mmask\u001b[0m\u001b[1;33m.\u001b[0m\u001b[0many\u001b[0m\u001b[1;33m(\u001b[0m\u001b[1;33m)\u001b[0m\u001b[1;33m:\u001b[0m\u001b[1;33m\u001b[0m\u001b[1;33m\u001b[0m\u001b[0m\n\u001b[0;32m   6660\u001b[0m             \u001b[1;32mif\u001b[0m \u001b[0merrors\u001b[0m \u001b[1;33m!=\u001b[0m \u001b[1;34m\"ignore\"\u001b[0m\u001b[1;33m:\u001b[0m\u001b[1;33m\u001b[0m\u001b[1;33m\u001b[0m\u001b[0m\n\u001b[1;32m-> 6661\u001b[1;33m                 \u001b[1;32mraise\u001b[0m \u001b[0mKeyError\u001b[0m\u001b[1;33m(\u001b[0m\u001b[1;34mf\"{list(labels[mask])} not found in axis\"\u001b[0m\u001b[1;33m)\u001b[0m\u001b[1;33m\u001b[0m\u001b[1;33m\u001b[0m\u001b[0m\n\u001b[0m\u001b[0;32m   6662\u001b[0m             \u001b[0mindexer\u001b[0m \u001b[1;33m=\u001b[0m \u001b[0mindexer\u001b[0m\u001b[1;33m[\u001b[0m\u001b[1;33m~\u001b[0m\u001b[0mmask\u001b[0m\u001b[1;33m]\u001b[0m\u001b[1;33m\u001b[0m\u001b[1;33m\u001b[0m\u001b[0m\n\u001b[0;32m   6663\u001b[0m         \u001b[1;32mreturn\u001b[0m \u001b[0mself\u001b[0m\u001b[1;33m.\u001b[0m\u001b[0mdelete\u001b[0m\u001b[1;33m(\u001b[0m\u001b[0mindexer\u001b[0m\u001b[1;33m)\u001b[0m\u001b[1;33m\u001b[0m\u001b[1;33m\u001b[0m\u001b[0m\n",
      "\u001b[1;31mKeyError\u001b[0m: \"['CUSIPDATE'] not found in axis\""
     ]
    }
   ],
   "source": [
    "# drop repetative columns from Final_merged_data\n",
    "drop = ['CUSIP','GVKEY', 'PCT_CHN',\n",
    "'PERMNO',\n",
    "'TICKER',\n",
    "#'DATE',\n",
    "'CUSIPDATE',\n",
    "'COMNAM',\n",
    "'YEAR',\n",
    "'MONTH',\n",
    "'OFTIC',\n",
    "'CNAME',\n",
    "'STATPERS',\n",
    "'MEANREC',\n",
    "'MEDREC',\n",
    "'STDEV',\n",
    "'NUMREC',\n",
    "'NUMUP',\n",
    "'NUMDOWN',\n",
    "'BUYPCT',\n",
    "'SELLPCT',\n",
    "'HOLDPCT',\n",
    "'STATPERS_backward']\n",
    "\n",
    "Final_merged_data = Final_merged_data.drop(drop,axis = 1)\n",
    "\n"
   ]
  },
  {
   "cell_type": "code",
   "execution_count": null,
   "id": "56a8f1cf",
   "metadata": {},
   "outputs": [],
   "source": [
    "# Final_merged_data = Final_merged_data.dropna()\n",
    "# Final_merged_data.shape"
   ]
  },
  {
   "cell_type": "code",
   "execution_count": null,
   "id": "959ff2a8",
   "metadata": {},
   "outputs": [],
   "source": [
    "# explore target value distribution\n",
    "\n",
    "print(Final_merged_data['Target'].value_counts())"
   ]
  },
  {
   "cell_type": "code",
   "execution_count": null,
   "id": "aa57b05b",
   "metadata": {},
   "outputs": [],
   "source": [
    "# Final_merged_data['CusipDate'] = Final_merged_data['CUSIP'] + Final_merged_data['DATE_YYYYMM']\n",
    "\n",
    "# Final_merged_data.to_csv(\"C:/Personal/1 MMA/1 MMA 823 Analytics for Financial Markets/Team Projects/DataSet/Updated/Final_merged_data_INDEX.csv\", index =False)\n"
   ]
  },
  {
   "cell_type": "code",
   "execution_count": null,
   "id": "c3a1a1b0",
   "metadata": {},
   "outputs": [],
   "source": [
    "# Final_merged_data = pd.read_csv(\"C:/Personal/1 MMA/1 MMA 823 Analytics for Financial Markets/Team Projects/DataSet/Updated/Final_merged_data_INDEX.csv\", index_col='CusipDate')"
   ]
  },
  {
   "cell_type": "code",
   "execution_count": null,
   "id": "7024ddf6",
   "metadata": {},
   "outputs": [],
   "source": [
    "Final_merged_data['MONTH_RETURN'] = Final_merged_data['MONTH_RETURN'].astype(float)\n",
    "#Final_merged_data['Month_Return'] = Final_merged_data['Month_Return'].astype(float)"
   ]
  },
  {
   "cell_type": "code",
   "execution_count": null,
   "id": "57104297",
   "metadata": {},
   "outputs": [],
   "source": [
    "# drop repetative columns \n",
    "drop_val = ['CUSIP','GVKEY',\n",
    "'PERMNO',\n",
    "'TICKER',\n",
    "'DATE',\n",
    "'CUSIPDATE',\n",
    "'COMNAM',\n",
    "'YEAR',\n",
    "'MONTH']\n",
    "\n",
    "prediction_set = prediction_set.drop(drop_val, axis = 1)\n"
   ]
  },
  {
   "cell_type": "code",
   "execution_count": null,
   "id": "03367651",
   "metadata": {},
   "outputs": [],
   "source": [
    "\n",
    "X1 = Final_merged_data.drop('Target', axis=1)\n",
    "Y1 = Final_merged_data['Target']\n",
    "\n"
   ]
  },
  {
   "cell_type": "code",
   "execution_count": null,
   "id": "5010c3b4",
   "metadata": {},
   "outputs": [],
   "source": [
    "# from sklearn.model_selection import TimeSeriesSplit\n",
    "\n",
    "# tss = TimeSeriesSplit(n_splits = 3)\n",
    "\n",
    "# # # Final_merged_data.set_index('DATE', inplace=True)\n",
    "# # # Final_merged_data.sort_index(inplace=True)\n",
    "\n",
    "# # #display(Final_merged_data)\n",
    "\n",
    "# # for train_index, test_index in tss.split(X1):\n",
    "# #     X_train, X_test = X1.iloc[train_index, :], X1.iloc[test_index,:]\n",
    "# #     y_train, y_test = Y1.iloc[train_index], Y1.iloc[test_index]\n",
    "    \n",
    "\n",
    "# # date_column = X1['DATE']\n",
    "\n",
    "# # # Split the data based on the date column\n",
    "# # mask1 =  (date_column < '2019-06-01')\n",
    "# # X_train = X1.loc[mask1]\n",
    "\n",
    "\n",
    "\n",
    "# # mask2 = (date_column >= '2019-06-30') & (date_column < '2022-11-30')\n",
    "# # X_test = X1.loc[mask2]\n",
    "    \n",
    "    "
   ]
  },
  {
   "cell_type": "code",
   "execution_count": null,
   "id": "ccc3e1d8",
   "metadata": {},
   "outputs": [],
   "source": [
    "# y_train = Y1.loc[mask1]\n",
    "# y_test = Y1.loc[mask2]"
   ]
  },
  {
   "cell_type": "code",
   "execution_count": null,
   "id": "ab4b0ba7",
   "metadata": {},
   "outputs": [],
   "source": [
    "from sklearn.model_selection import train_test_split\n",
    "\n",
    "X_train, X_test, y_train, y_test = train_test_split(X1, Y1, test_size=0.6, random_state=42)"
   ]
  },
  {
   "cell_type": "code",
   "execution_count": null,
   "id": "d733f765",
   "metadata": {},
   "outputs": [],
   "source": [
    "print(\"X_train Max date\", X_train['DATE'].max())\n",
    "print(\"X_test Max date\", X_test['DATE'].max())\n",
    "\n",
    "print(\"X_train min date\", X_train['DATE'].min())\n",
    "print(\"X_test min date\", X_test['DATE'].min())"
   ]
  },
  {
   "cell_type": "code",
   "execution_count": null,
   "id": "1a22bea4",
   "metadata": {},
   "outputs": [],
   "source": [
    "print(\"X_train\",X_train.shape)\n",
    "print(\"X_test\",X_test.shape)\n",
    "print(\"y_train\",y_train.shape)\n",
    "print(\"y_test\",y_test.shape) \n",
    "\n",
    "# X_train.to_csv(\"C:/Personal/1 MMA/1 MMA 823 Analytics for Financial Markets/Team Projects/DataSet/InputData/X_train.csv\", index =True)\n",
    "# X_test.to_csv(\"C:/Personal/1 MMA/1 MMA 823 Analytics for Financial Markets/Team Projects/DataSet/InputData/X_test.csv\", index =True)\n",
    "\n",
    "# y_train.to_csv(\"C:/Personal/1 MMA/1 MMA 823 Analytics for Financial Markets/Team Projects/DataSet/InputData/y_train.csv\", index =True)\n",
    "# y_test.to_csv(\"C:/Personal/1 MMA/1 MMA 823 Analytics for Financial Markets/Team Projects/DataSet/InputData/y_test.csv\", index =True)\n",
    "\n"
   ]
  },
  {
   "cell_type": "code",
   "execution_count": null,
   "id": "c52952fe",
   "metadata": {},
   "outputs": [],
   "source": [
    "y_test.to_csv(\"C:/Personal/1 MMA/1 MMA 823 Analytics for Financial Markets/Team Projects/DataSet/Prediction/y_test1.csv\")"
   ]
  },
  {
   "cell_type": "code",
   "execution_count": null,
   "id": "ea984447",
   "metadata": {},
   "outputs": [],
   "source": [
    "# dnt run\n",
    "# cat_cols = list(Final_merged_data.select_dtypes(include='object'))\n",
    "float_cols = list(Final_merged_data.select_dtypes(include='float64'))\n",
    "\n",
    "# cat_cols, float_cols\n"
   ]
  },
  {
   "cell_type": "code",
   "execution_count": null,
   "id": "9b3091fa",
   "metadata": {},
   "outputs": [],
   "source": [
    "from sklearn.preprocessing import StandardScaler\n",
    "\n",
    "import pandas as pd\n",
    "\n",
    "def normalize_groupby(df, group_col, feature_cols):\n",
    "    # Create a StandardScaler object\n",
    "    scaler = StandardScaler()\n",
    "    \n",
    "    # Group the data by the specified column\n",
    "    grouped = df.groupby(group_col)\n",
    "    \n",
    "    # Iterate over each group\n",
    "    for name, group in grouped:\n",
    "        # Fit the StandardScaler object to the group\n",
    "        scaler.fit(group[feature_cols].values)\n",
    "        # Transform the group using the fitted StandardScaler object\n",
    "        group_scaled = scaler.transform(group[feature_cols].values)\n",
    "        # Assign the scaled group back to the original DataFrame\n",
    "        df.loc[group.index, feature_cols] = group_scaled\n",
    "        \n",
    "    return df\n",
    "\n",
    "# define the input variables\n",
    "df = X_train\n",
    "group_col = \"DATE_YYYYMM\"\n",
    "feature_cols = float_cols\n",
    "\n",
    "df_normalized = normalize_groupby(df, group_col, feature_cols)"
   ]
  },
  {
   "cell_type": "code",
   "execution_count": null,
   "id": "b531986c",
   "metadata": {},
   "outputs": [],
   "source": [
    "import lightgbm as lgb\n",
    "from sklearn.model_selection import train_test_split\n",
    "from sklearn.metrics import f1_score\n",
    "from sklearn.metrics import classification_report\n",
    "import optuna\n",
    "from optuna.samplers import TPESampler"
   ]
  },
  {
   "cell_type": "code",
   "execution_count": null,
   "id": "caaff90f",
   "metadata": {},
   "outputs": [],
   "source": [
    "cat_cols = ['SECTORNAME']\n",
    "\n",
    "float_cols = list(X_train.select_dtypes(include='float64'))\n",
    "\n",
    "X_train[cat_cols] = X_train[cat_cols].astype('category')\n",
    "\n",
    "X_test[cat_cols] = X_test[cat_cols].astype('category')\n",
    "\n",
    "\n",
    "drop_features = ['DATE','DATE_YYYYMM']\n",
    "\n",
    "\n",
    "X_train = X_train.drop(drop_features, axis = 1)\n",
    "X_test = X_test.drop(drop_features, axis = 1)\n",
    "\n",
    "\n",
    "# # #X_train = X_train.drop('DATE_YYYYMM', axis=1)\n",
    "# # X_train = X_train.drop('DATE', axis=1)\n",
    "\n",
    "\n",
    "# # #X_test = X_test.drop('DATE_YYYYMM', axis=1)\n",
    "# # X_test = X_test.drop('DATE', axis=1)\n",
    "\n"
   ]
  },
  {
   "cell_type": "code",
   "execution_count": null,
   "id": "a45ffb1a",
   "metadata": {},
   "outputs": [],
   "source": [
    "print(y_train.value_counts())\n",
    "print(y_test.value_counts())\n",
    "    "
   ]
  },
  {
   "cell_type": "code",
   "execution_count": null,
   "id": "faa069c9",
   "metadata": {},
   "outputs": [],
   "source": [
    "# class_counts = np.bincount(y_train)\n",
    "\n",
    "# y_test.value_counts()\n",
    "\n",
    "# # Calculate the weight for each class\n",
    "# class_weights = class_counts.max() / class_counts\n",
    "\n",
    "# # Convert the class weights to a dictionary\n",
    "# class_weight_dict = dict(enumerate(class_weights))\n",
    "\n",
    "# # Train a LightGBM classifier with the custom class weights\n",
    "# lgb_model = lgb.LGBMClassifier(class_weight=class_weight_dict)\n",
    "# lgb_model.fit(X_train, y_train)"
   ]
  },
  {
   "cell_type": "code",
   "execution_count": null,
   "id": "7bc5726b",
   "metadata": {},
   "outputs": [],
   "source": [
    "def objective(trial):\n",
    "    \"\"\"\n",
    "    Objective function to be minimized.\n",
    "    \"\"\"\n",
    "    param = {\n",
    "        \"objective\": \"multiclass\",\n",
    "        \"metric\": \"multi_logloss\",\n",
    "        #\"verbosity\": -1,\n",
    "        \"boosting_type\": \"gbdt\",\n",
    "        \"num_class\": 3,\n",
    "        \"lambda_l1\": trial.suggest_float(\"lambda_l1\", 1e-8, 0.0001, log=True),\n",
    "        \"lambda_l2\": trial.suggest_float(\"lambda_l2\", 1e-8, 0.001, log=True),\n",
    "        \"num_leaves\": trial.suggest_int(\"num_leaves\", 2, 256),\n",
    "        \"feature_fraction\": trial.suggest_float(\"feature_fraction\", 0.4, 1.0),\n",
    "        \"bagging_fraction\": trial.suggest_float(\"bagging_fraction\", 0.4, 1.0),\n",
    "        \"bagging_freq\": trial.suggest_int(\"bagging_freq\", 1, 7),\n",
    "        \"min_child_samples\": trial.suggest_int(\"min_child_samples\", 5, 150),\n",
    "        #new setting \n",
    "        'verbose': trial.suggest_int('verbose', -2, 10), \n",
    "        'max_bin': trial.suggest_int('max_bin', 80, 2000),\n",
    "        'class_weight':'balanced'\n",
    "    }\n",
    "    gbm = lgb.LGBMClassifier(**param)\n",
    "\n",
    "    # you can put this back if you want to use holdout method\n",
    "    gbm.fit(X_train, y_train)\n",
    "    preds = gbm.predict(X_test)\n",
    "    F1 = f1_score(y_test, preds,average='micro')\n",
    "    return F1\n",
    "\n",
    "    # this is the line i added for CV, but not sure if its correct\n",
    "#     scores = cross_val_score(gbm, X, y, cv = 3,scoring='f1_micro' )\n",
    "#     goal = scores.mean()\n",
    "#     return goal\n",
    "\n",
    "sampler = TPESampler(seed=1)\n",
    "study = optuna.create_study(study_name=\"lightgbm\", direction=\"maximize\", sampler=sampler)\n",
    "study.optimize(objective, n_trials=30) ## < change this 500 to 1000 once you are ready to find the best combo, but it takes hours to run.\n"
   ]
  },
  {
   "cell_type": "code",
   "execution_count": null,
   "id": "028fe9e3",
   "metadata": {},
   "outputs": [],
   "source": [
    "model = lgb.LGBMClassifier(**study.best_params)\n",
    "model.fit(X_train, y_train)\n",
    "\n",
    "y_pred=model.predict(X_test)\n"
   ]
  },
  {
   "cell_type": "code",
   "execution_count": null,
   "id": "ae8eb574",
   "metadata": {},
   "outputs": [],
   "source": [
    "print(classification_report(y_test, y_pred))\n",
    "print(\"Best_Score - RF\", model.score)\n",
    "print(\"best_params - RF\", model.get_params())\n",
    "\n",
    "\n",
    "# print(\"cv_scores_clf_b\",cv_scores_clf_b)\n",
    "# print(\"------------------------------------------------------------------------\")\n",
    "# print(\"Estimated Score: {:0.3f} +/- {:0.2f}\".format(np.mean(cv_scores_clf_b), np.std(cv_scores_clf_b)))"
   ]
  },
  {
   "cell_type": "code",
   "execution_count": null,
   "id": "831871ee",
   "metadata": {},
   "outputs": [],
   "source": [
    "import matplotlib.pyplot as plt\n",
    "import seaborn as sns\n",
    "import warnings\n",
    "warnings.simplefilter(action='ignore', category=FutureWarning)\n",
    "\n",
    "# sorted(zip(clf.feature_importances_, X.columns), reverse=True)\n",
    "feature_imp = pd.DataFrame(sorted(zip(model.feature_importances_,X_train.columns)), columns=['Value','Feature'])\n",
    "\n",
    "plt.figure(figsize=(20, 10))\n",
    "sns.barplot(x=\"Value\", y=\"Feature\", data=feature_imp.sort_values(by=\"Value\", ascending=False))\n",
    "plt.title('LightGBM Features (avg over folds)')\n",
    "plt.tight_layout()\n",
    "plt.show()\n",
    "plt.savefig('lgbm_importances-01.png')"
   ]
  },
  {
   "cell_type": "code",
   "execution_count": null,
   "id": "22e7482b",
   "metadata": {},
   "outputs": [],
   "source": [
    "from sklearn import metrics\n",
    "\n",
    "# confusion_matrix = metrics.confusion_matrix(y_test, y_pred)\n",
    "# cm_display = metrics.ConfusionMatrixDisplay(confusion_matrix = confusion_matrix)\n",
    "# cm_display.plot()\n",
    "# plt.show()\n",
    "\n",
    "cm = metrics.confusion_matrix(y_test, y_pred)\n",
    "\n",
    "cm_obj = metrics.ConfusionMatrixDisplay(cm, display_labels = ['Downgrade', 'NoChange', 'Upgrade'])\n",
    "cm_obj.plot()\n",
    "\n",
    "cm_obj.ax_.set(title= 'SKlearn Confusion Matrix with Labels', \n",
    "                xlabel = 'Predcted Values', \n",
    "                ylabel = 'Actual Values')\n",
    "plt.show()\n"
   ]
  },
  {
   "cell_type": "code",
   "execution_count": null,
   "id": "ba3ce1fc",
   "metadata": {},
   "outputs": [],
   "source": []
  }
 ],
 "metadata": {
  "kernelspec": {
   "display_name": "Python 3 (ipykernel)",
   "language": "python",
   "name": "python3"
  },
  "language_info": {
   "codemirror_mode": {
    "name": "ipython",
    "version": 3
   },
   "file_extension": ".py",
   "mimetype": "text/x-python",
   "name": "python",
   "nbconvert_exporter": "python",
   "pygments_lexer": "ipython3",
   "version": "3.9.7"
  }
 },
 "nbformat": 4,
 "nbformat_minor": 5
}
